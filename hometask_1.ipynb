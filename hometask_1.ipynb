{
 "cells": [
  {
   "cell_type": "code",
   "execution_count": 2,
   "metadata": {},
   "outputs": [
    {
     "name": "stdout",
     "output_type": "stream",
     "text": [
      "Enter your age: 19\n"
     ]
    },
    {
     "data": {
      "text/plain": [
       "2100"
      ]
     },
     "execution_count": 2,
     "metadata": {},
     "output_type": "execute_result"
    }
   ],
   "source": [
    "#Exercise 1\n",
    "age = int(input(\"Enter your age: \"))\n",
    "annual = 2019+(100-age)\n",
    "annual"
   ]
  },
  {
   "cell_type": "code",
   "execution_count": 4,
   "metadata": {},
   "outputs": [
    {
     "name": "stdout",
     "output_type": "stream",
     "text": [
      "Enter a natural number: 4\n",
      "Even\n"
     ]
    }
   ],
   "source": [
    "#Exercise 2\n",
    "x = int(input(\"Enter a natural number: \"))\n",
    "if x%2 == 0:\n",
    "    print(\"Even\")\n",
    "else:\n",
    "    print(\"Odd\")"
   ]
  },
  {
   "cell_type": "code",
   "execution_count": 32,
   "metadata": {},
   "outputs": [
    {
     "name": "stdout",
     "output_type": "stream",
     "text": [
      "How many natural numbers? 2\n",
      "1\n",
      "3\n",
      "<5 are\n",
      "1\n",
      "2\n"
     ]
    }
   ],
   "source": [
    "#Exercise 3\n",
    "my_list = []\n",
    "quant = int(input(\"How many natural numbers? \"))\n",
    "for i in range(quant):\n",
    "    x = int(input())\n",
    "    my_list.append(x)\n",
    "print(\"<5 are\")\n",
    "for element in list:\n",
    "    if element < 5:\n",
    "        print(element)"
   ]
  },
  {
   "cell_type": "code",
   "execution_count": null,
   "metadata": {},
   "outputs": [],
   "source": [
    "#Exersice 5\n",
    "\"\"\"\"\n",
    "list1 = [1, 5, 6, 7, 8, 8, 8]\n",
    "list2 = [4, -5, 1, 1, 8]\n",
    "max(list1)\n",
    "\n",
    "\n",
    "Max2 = max(list2)\n",
    "Min1 = min(list1)\n",
    "Min2 = min(list2)\n",
    "\n",
    "max_el = max(max1,max2)+1\n",
    "min_el = min(min1,min2)\n",
    "for i in range(min_el,max_el):\n",
    "    if (i in list1) & (i in list2):\n",
    "        i \n",
    "\"\"\"\""
   ]
  },
  {
   "cell_type": "code",
   "execution_count": 1,
   "metadata": {},
   "outputs": [
    {
     "data": {
      "text/plain": [
       "[8, 1]"
      ]
     },
     "execution_count": 1,
     "metadata": {},
     "output_type": "execute_result"
    }
   ],
   "source": [
    "#Exersice 5\n",
    "list1 = [1, 5, 6, 7, 8, 8, 8]\n",
    "list2 = [4, -5, 1, 1, 8]\n",
    "list3 = []\n",
    "for element in list1:\n",
    "    if element in list2:\n",
    "        list3.append(element)\n",
    "list(set(list3))"
   ]
  },
  {
   "cell_type": "code",
   "execution_count": 2,
   "metadata": {},
   "outputs": [
    {
     "data": {
      "text/plain": [
       "[5, 25]"
      ]
     },
     "execution_count": 2,
     "metadata": {},
     "output_type": "execute_result"
    }
   ],
   "source": [
    "#Exercise 12\n",
    "my_list = [5, 10, 15, 20, 25]\n",
    "def first_last(a):\n",
    "    return [my_list[0], my_list[-1]]\n",
    "first_last(my_list)"
   ]
  },
  {
   "cell_type": "code",
   "execution_count": 5,
   "metadata": {},
   "outputs": [
    {
     "data": {
      "text/plain": [
       "False"
      ]
     },
     "execution_count": 5,
     "metadata": {},
     "output_type": "execute_result"
    }
   ],
   "source": [
    "#Exercise 20\n",
    "def in_or_not(l,x):\n",
    "    return (x in l)\n",
    "in_or_not(my_list, 7)"
   ]
  },
  {
   "cell_type": "code",
   "execution_count": 7,
   "metadata": {},
   "outputs": [
    {
     "data": {
      "text/plain": [
       "[10]"
      ]
     },
     "execution_count": 7,
     "metadata": {},
     "output_type": "execute_result"
    }
   ],
   "source": [
    "#Exercise 14\n",
    "def no_dupl(l):\n",
    "    return list(set(l))\n",
    "no_dupl([10,10,10])"
   ]
  },
  {
   "cell_type": "code",
   "execution_count": 10,
   "metadata": {},
   "outputs": [
    {
     "name": "stdout",
     "output_type": "stream",
     "text": [
      "How any Fibonacci numbers? 7\n"
     ]
    },
    {
     "data": {
      "text/plain": [
       "[1, 1, 2, 3, 5, 8, 13]"
      ]
     },
     "execution_count": 10,
     "metadata": {},
     "output_type": "execute_result"
    }
   ],
   "source": [
    "#Exercise 13\n",
    "quant = int(input(\"How any Fibonacci numbers? \"))\n",
    "fibonacci = [0, 1]\n",
    "for i in range(quant):\n",
    "    fibonacci.append(fibonacci[i+1]+fibonacci[i])\n",
    "fibonacci[1:(quant+1)]"
   ]
  }
 ],
 "metadata": {
  "kernelspec": {
   "display_name": "Python 3",
   "language": "python",
   "name": "python3"
  },
  "language_info": {
   "codemirror_mode": {
    "name": "ipython",
    "version": 3
   },
   "file_extension": ".py",
   "mimetype": "text/x-python",
   "name": "python",
   "nbconvert_exporter": "python",
   "pygments_lexer": "ipython3",
   "version": "3.7.4"
  }
 },
 "nbformat": 4,
 "nbformat_minor": 2
}
